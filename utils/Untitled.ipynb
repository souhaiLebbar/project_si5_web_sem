{
 "cells": [
  {
   "cell_type": "code",
   "execution_count": 11,
   "id": "56423852-b23c-4a1f-8e01-6fac6fe3b26a",
   "metadata": {},
   "outputs": [],
   "source": [
    "import scispacy\n",
    "import spacy\n",
    "import spacyfishing\n",
    "import coreferee\n",
    "from SPARQLWrapper import SPARQLWrapper, JSON\n",
    "from uuid import uuid4\n",
    "from datetime import datetime\n",
    "\n",
    "coref = spacy.load(\"en_core_web_lg\")\n",
    "coref.add_pipe('coreferee')\n",
    "\n",
    "disease = spacy.load(\"en_core_sci_sm\")\n",
    "disease.add_pipe('entityfishing', config={\n",
    "        \"extra_info\": True,\n",
    "        \"api_ef_base\": \"http://nerd.huma-num.fr/nerd/service\"\n",
    "    })\n",
    "\n",
    "sparql = SPARQLWrapper(\"https://query.wikidata.org/sparql\")\n",
    "sparql.setReturnFormat(JSON)"
   ]
  },
  {
   "cell_type": "code",
   "execution_count": 2,
   "id": "dbe6dc8f-73cb-4fac-87d5-8a9ae2b6bd03",
   "metadata": {},
   "outputs": [],
   "source": [
    "def coref_resolution(name, text):\n",
    "    final_text = \"\"\n",
    "    doc = coref(text)\n",
    "    \n",
    "    for i, token in enumerate(doc):\n",
    "        if token.tag_ == \"PRP\":\n",
    "            resolution = doc._.coref_chains.resolve(doc[i])\n",
    "            final_text += resolution[0].text\n",
    "        else:\n",
    "            final_text += token.text\n",
    "        final_text += \" \"\n",
    "    \n",
    "    final_text = final_text.replace(name, \"patient\")\n",
    "    return final_text.strip()"
   ]
  },
  {
   "cell_type": "code",
   "execution_count": 3,
   "id": "bbf6bc85-b599-45ce-9b2e-07e611e893e6",
   "metadata": {},
   "outputs": [],
   "source": [
    "def extract_duples(folder_id, text):\n",
    "    doc = disease(text)\n",
    "    \n",
    "    verbs = []\n",
    "    \n",
    "    for sent in doc.sents:\n",
    "        for token in sent:\n",
    "            if token.pos_ == \"VERB\" or token.pos_ == \"AUX\":\n",
    "                verbs.append(token)\n",
    "                \n",
    "    duples = []\n",
    "    \n",
    "    for verb in verbs:\n",
    "        children = [x for x in verb.children]\n",
    "        subject = [x for x in children if x.dep_ == \"nsubj\"]\n",
    "        object = [x for x in children if x.dep_ == \"dobj\" or x.dep_ == \"nmod\"]\n",
    "        \n",
    "        if len(subject) == 0 or len(object) == 0:\n",
    "            continue\n",
    "            \n",
    "        subject = subject[0]\n",
    "        object = object[0]\n",
    "        \n",
    "        subject_ent = None\n",
    "        object_ent = None\n",
    "        for ent in doc.ents:\n",
    "            if subject.i in range(ent.start, ent.start + len(ent)) and not ent._.kb_qid is None:\n",
    "                subject_ent = ent\n",
    "            elif object.i in range(ent.start, ent.start + len(ent)) and not ent._.kb_qid is None:\n",
    "                object_ent = ent\n",
    "                \n",
    "        if subject_ent is None or object_ent is None:\n",
    "            continue\n",
    "            \n",
    "        if subject_ent._.kb_qid != \"Q181600\":\n",
    "            continue\n",
    "            \n",
    "        sparql.setQuery(\"\"\"\n",
    "            PREFIX wd: <http://www.wikidata.org/entity/>\n",
    "            PREFIX wdt: <http://www.wikidata.org/prop/direct/>\n",
    "\n",
    "            SELECT ?x\n",
    "            WHERE {\n",
    "                wd:\"\"\" + object_ent._.kb_qid + \"\"\" wdt:P31 ?x\n",
    "            }\n",
    "            \"\"\"\n",
    "        )\n",
    "        \n",
    "        try:\n",
    "            predicate = None\n",
    "            ret = sparql.queryAndConvert()\n",
    "            \n",
    "            result = [r['x']['value'].split('/')[-1] for r in ret[\"results\"][\"bindings\"]]\n",
    "\n",
    "            if 'Q112965645' in result or 'Q12136' in result:\n",
    "                predicate = \"mp:declaredSymptom\"\n",
    "            elif 'Q12140' in result:\n",
    "                predicate = \"mp:triedMed\"\n",
    "                \n",
    "            if not predicate is None:\n",
    "                duples.append((predicate, f'wd:{object_ent._.kb_qid}'))\n",
    "                \n",
    "        except Exception as e:\n",
    "            print(e)\n",
    "            \n",
    "    return duples"
   ]
  },
  {
   "cell_type": "code",
   "execution_count": 22,
   "id": "219f4170-7ec2-43e6-99a0-852c3f278f89",
   "metadata": {},
   "outputs": [],
   "source": [
    "def create_query(name, ssm, folder_id, duples, doctor_id):\n",
    "    \n",
    "    folder_properties = '\\n                '.join([f'{item[0]} {item[1]} ;' for item in duples])[:-1]\n",
    "    \n",
    "    return \"\"\"\n",
    "    PREFIX pat: <http://www.inria.org/patients/>\n",
    "    PREFIX doc: <http://www.inria.org/doctors/>\n",
    "    PREFIX cons: <http://www.inria.org/consultations/>\n",
    "    PREFIX mc: <http://www.inria.org/entity/>\n",
    "    PREFIX mp: <http://www.inria.org/property/>\n",
    "    PREFIX wd: <http://www.wikidata.org/entity/>\n",
    "    PREFIX xsd: <http://www.w3.org/2001/XMLSchema#>\n",
    "    \n",
    "    INSERT DATA {\n",
    "        GRAPH <http://localhost:8082> {\n",
    "            pat:\"\"\" + ssm + \"\"\"\n",
    "                a mc:Patient ;\n",
    "                mp:name \\\"\"\"\" + name + \"\"\"\\\" ;\n",
    "                mp:consulted cons:\"\"\" + str(folder_id) + \"\"\" .\n",
    "                \n",
    "            cons:\"\"\" + str(folder_id) + \"\"\"\n",
    "                a mc:Consultation ;\n",
    "                mp:docInCharge doc:\"\"\" + str(doctor_id) + \"\"\" ;\n",
    "                mp:tookPlace \\\"\"\"\" + str(datetime.now()).replace(' ', 'T').split('.')[0] + \"\"\"\\\"^^xsd:dateTime ;\n",
    "                \"\"\" + folder_properties + \"\"\".\n",
    "            \n",
    "        }\n",
    "    }\"\"\""
   ]
  },
  {
   "cell_type": "code",
   "execution_count": 23,
   "id": "edce2975-eec9-4f21-aead-2c188e3edcb9",
   "metadata": {},
   "outputs": [],
   "source": [
    "def text_2_sparql(name, ssm, text, doctor_id):\n",
    "    folder_id = uuid4()\n",
    "    preprocessed = coref_resolution(name, text)\n",
    "    duples = extract_duples(folder_id, preprocessed)\n",
    "    return create_query(name, ssm, folder_id, duples, doctor_id)"
   ]
  },
  {
   "cell_type": "code",
   "execution_count": 24,
   "id": "663116a7-afec-4140-9ac8-bcd313d5ddd7",
   "metadata": {},
   "outputs": [
    {
     "name": "stdout",
     "output_type": "stream",
     "text": [
      "\n",
      "    PREFIX pat: <http://www.inria.org/patients/>\n",
      "    PREFIX doc: <http://www.inria.org/doctors/>\n",
      "    PREFIX cons: <http://www.inria.org/consultations/>\n",
      "    PREFIX mc: <http://www.inria.org/entity/>\n",
      "    PREFIX mp: <http://www.inria.org/property/>\n",
      "    PREFIX wd: <http://www.wikidata.org/entity/>\n",
      "    PREFIX xsd: <http://www.w3.org/2001/XMLSchema#>\n",
      "    \n",
      "    INSERT DATA {\n",
      "        GRAPH <http://localhost:8082> {\n",
      "            pat:684656-8146516-13520\n",
      "                a mc:Patient ;\n",
      "                mp:name \"Johnson\" ;\n",
      "                mp:hasFolder cons:59269e03-7b0c-4bab-bfb2-eb4bccda1408 .\n",
      "                \n",
      "            cons:59269e03-7b0c-4bab-bfb2-eb4bccda1408\n",
      "                a mc:Consultation ;\n",
      "                mp:docInCharge doc:08d3d4d6-629d-4847-a469-9d6d4bf9ab02 ;\n",
      "                mp:tookPlace \"2023-01-25T14:20:54\"^^xsd:dateTime ;\n",
      "                mp:declaredSymptom wd:Q38933 ;\n",
      "                mp:declaredSymptom wd:Q86 ;\n",
      "                mp:declaredSymptom wd:Q936382 ;\n",
      "                mp:triedMed wd:Q412734 .\n",
      "            \n",
      "        }\n",
      "    }\n"
     ]
    }
   ],
   "source": [
    "text = \"\"\"\n",
    "Johnson suffered from a fever. He also had a headache for 3 days. He also has hypocalcemia. He already tried peramivir \n",
    "\"\"\"\n",
    "\n",
    "doctor_id = uuid4()\n",
    "\n",
    "print(text_2_sparql(\"Johnson\", \"684656-8146516-13520\", text, doctor_id))\n"
   ]
  },
  {
   "cell_type": "code",
   "execution_count": 14,
   "id": "d2743834-a574-411a-a114-c648eb43f42a",
   "metadata": {},
   "outputs": [
    {
     "data": {
      "text/plain": [
       "'2023-01-25T14:00:40'"
      ]
     },
     "execution_count": 14,
     "metadata": {},
     "output_type": "execute_result"
    }
   ],
   "source": [
    "str(datetime.now()).replace(' ', 'T').split('.')[0]"
   ]
  },
  {
   "cell_type": "code",
   "execution_count": null,
   "id": "56c48961-1dbf-4da4-acb4-7634519cce52",
   "metadata": {},
   "outputs": [],
   "source": []
  }
 ],
 "metadata": {
  "kernelspec": {
   "display_name": "projetfinal",
   "language": "python",
   "name": "projetfinal"
  },
  "language_info": {
   "codemirror_mode": {
    "name": "ipython",
    "version": 3
   },
   "file_extension": ".py",
   "mimetype": "text/x-python",
   "name": "python",
   "nbconvert_exporter": "python",
   "pygments_lexer": "ipython3",
   "version": "3.8.16"
  }
 },
 "nbformat": 4,
 "nbformat_minor": 5
}
