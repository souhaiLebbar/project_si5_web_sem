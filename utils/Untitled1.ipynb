{
 "cells": [
  {
   "cell_type": "code",
   "execution_count": 1,
   "id": "b74e950b-d7ef-4ad2-9e2c-6389c83fec38",
   "metadata": {},
   "outputs": [],
   "source": [
    "from rdflib import Graph,Namespace"
   ]
  },
  {
   "cell_type": "code",
   "execution_count": 2,
   "id": "f2a744e6-1eb9-45c0-9517-7b65583de8e0",
   "metadata": {},
   "outputs": [],
   "source": [
    "g = Graph()"
   ]
  },
  {
   "cell_type": "code",
   "execution_count": 3,
   "id": "2789b7ec-c4ed-4273-9eb0-62dcfe515c65",
   "metadata": {},
   "outputs": [],
   "source": [
    "request = \"\"\"\n",
    "    PREFIX pat: <http://www.inria.org/patients/>\n",
    "    PREFIX doc: <http://www.inria.org/doctors/>\n",
    "    PREFIX cons: <http://www.inria.org/consultations/>\n",
    "    PREFIX mc: <http://www.inria.org/entity/>\n",
    "    PREFIX mp: <http://www.inria.org/property/>\n",
    "    PREFIX wd: <http://www.wikidata.org/entity/>\n",
    "    PREFIX xsd: <http://www.w3.org/2001/XMLSchema#>\n",
    "    \n",
    "    INSERT DATA {\n",
    "        GRAPH <http://localhost:8082> {\n",
    "            pat:684656-8146516-13520\n",
    "                a mc:Patient ;\n",
    "                mp:name \"Johnson\" ;\n",
    "                mp:consulted cons:d8cd6bd3-911c-44a0-b02c-735b7a5696ad .\n",
    "                \n",
    "            cons:d8cd6bd3-911c-44a0-b02c-735b7a5696ad\n",
    "                a mc:Consultation ;\n",
    "                mp:docInCharge doc:7b2aa0da-2f6f-4813-8393-94cd5d08d89f ;\n",
    "                mp:tookPlace \"2023-01-28T21:45:51\"^^xsd:dateTime ;\n",
    "                mp:declaredSymptom wd:Q38933 ;\n",
    "                mp:declaredSymptom wd:Q86 ;\n",
    "                mp:declaredSymptom wd:Q936382 ;\n",
    "                mp:triedMed wd:Q412734 .\n",
    "            \n",
    "        }\n",
    "    }\n",
    "\"\"\""
   ]
  },
  {
   "cell_type": "code",
   "execution_count": 4,
   "id": "25e9618b-8161-4b4c-941c-529403d596ee",
   "metadata": {},
   "outputs": [
    {
     "ename": "Exception",
     "evalue": "You performed a query operation requiring a dataset (i.e. ConjunctiveGraph), but operating currently on a single graph.",
     "output_type": "error",
     "traceback": [
      "\u001b[0;31m---------------------------------------------------------------------------\u001b[0m",
      "\u001b[0;31mException\u001b[0m                                 Traceback (most recent call last)",
      "Cell \u001b[0;32mIn[4], line 1\u001b[0m\n\u001b[0;32m----> 1\u001b[0m g\u001b[39m.\u001b[39;49mupdate(request)\n",
      "File \u001b[0;32m~/desktop/knowledge_eng/Projet_Knowledge_Ing/myenv/lib/python3.8/site-packages/rdflib/graph.py:1419\u001b[0m, in \u001b[0;36mGraph.update\u001b[0;34m(self, update_object, processor, initNs, initBindings, use_store_provided, **kwargs)\u001b[0m\n\u001b[1;32m   1416\u001b[0m \u001b[39mif\u001b[39;00m \u001b[39mnot\u001b[39;00m \u001b[39misinstance\u001b[39m(processor, query\u001b[39m.\u001b[39mUpdateProcessor):\n\u001b[1;32m   1417\u001b[0m     processor \u001b[39m=\u001b[39m plugin\u001b[39m.\u001b[39mget(processor, query\u001b[39m.\u001b[39mUpdateProcessor)(\u001b[39mself\u001b[39m)\n\u001b[0;32m-> 1419\u001b[0m \u001b[39mreturn\u001b[39;00m processor\u001b[39m.\u001b[39;49mupdate(update_object, initBindings, initNs, \u001b[39m*\u001b[39;49m\u001b[39m*\u001b[39;49mkwargs)\n",
      "File \u001b[0;32m~/desktop/knowledge_eng/Projet_Knowledge_Ing/myenv/lib/python3.8/site-packages/rdflib/plugins/sparql/processor.py:62\u001b[0m, in \u001b[0;36mSPARQLUpdateProcessor.update\u001b[0;34m(self, strOrQuery, initBindings, initNs)\u001b[0m\n\u001b[1;32m     59\u001b[0m \u001b[39mif\u001b[39;00m \u001b[39misinstance\u001b[39m(strOrQuery, \u001b[39mstr\u001b[39m):\n\u001b[1;32m     60\u001b[0m     strOrQuery \u001b[39m=\u001b[39m translateUpdate(parseUpdate(strOrQuery), initNs\u001b[39m=\u001b[39minitNs)\n\u001b[0;32m---> 62\u001b[0m \u001b[39mreturn\u001b[39;00m evalUpdate(\u001b[39mself\u001b[39;49m\u001b[39m.\u001b[39;49mgraph, strOrQuery, initBindings)\n",
      "File \u001b[0;32m~/desktop/knowledge_eng/Projet_Knowledge_Ing/myenv/lib/python3.8/site-packages/rdflib/plugins/sparql/update.py:299\u001b[0m, in \u001b[0;36mevalUpdate\u001b[0;34m(graph, update, initBindings)\u001b[0m\n\u001b[1;32m    297\u001b[0m     evalCopy(ctx, u)\n\u001b[1;32m    298\u001b[0m \u001b[39melif\u001b[39;00m u\u001b[39m.\u001b[39mname \u001b[39m==\u001b[39m \u001b[39m\"\u001b[39m\u001b[39mInsertData\u001b[39m\u001b[39m\"\u001b[39m:\n\u001b[0;32m--> 299\u001b[0m     evalInsertData(ctx, u)\n\u001b[1;32m    300\u001b[0m \u001b[39melif\u001b[39;00m u\u001b[39m.\u001b[39mname \u001b[39m==\u001b[39m \u001b[39m\"\u001b[39m\u001b[39mDeleteData\u001b[39m\u001b[39m\"\u001b[39m:\n\u001b[1;32m    301\u001b[0m     evalDeleteData(ctx, u)\n",
      "File \u001b[0;32m~/desktop/knowledge_eng/Projet_Knowledge_Ing/myenv/lib/python3.8/site-packages/rdflib/plugins/sparql/update.py:88\u001b[0m, in \u001b[0;36mevalInsertData\u001b[0;34m(ctx, u)\u001b[0m\n\u001b[1;32m     85\u001b[0m \u001b[39m# add quads\u001b[39;00m\n\u001b[1;32m     86\u001b[0m \u001b[39m# u.quads is a dict of graphURI=>[triples]\u001b[39;00m\n\u001b[1;32m     87\u001b[0m \u001b[39mfor\u001b[39;00m g \u001b[39min\u001b[39;00m u\u001b[39m.\u001b[39mquads:\n\u001b[0;32m---> 88\u001b[0m     cg \u001b[39m=\u001b[39m ctx\u001b[39m.\u001b[39;49mdataset\u001b[39m.\u001b[39mget_context(g)\n\u001b[1;32m     89\u001b[0m     cg \u001b[39m+\u001b[39m\u001b[39m=\u001b[39m u\u001b[39m.\u001b[39mquads[g]\n",
      "File \u001b[0;32m~/desktop/knowledge_eng/Projet_Knowledge_Ing/myenv/lib/python3.8/site-packages/rdflib/plugins/sparql/sparql.py:288\u001b[0m, in \u001b[0;36mQueryContext.dataset\u001b[0;34m(self)\u001b[0m\n\u001b[1;32m    286\u001b[0m \u001b[39m\u001b[39m\u001b[39m\"\"\" \"current dataset\"\"\"\u001b[39;00m\n\u001b[1;32m    287\u001b[0m \u001b[39mif\u001b[39;00m \u001b[39mself\u001b[39m\u001b[39m.\u001b[39m_dataset \u001b[39mis\u001b[39;00m \u001b[39mNone\u001b[39;00m:\n\u001b[0;32m--> 288\u001b[0m     \u001b[39mraise\u001b[39;00m \u001b[39mException\u001b[39;00m(\n\u001b[1;32m    289\u001b[0m         \u001b[39m\"\u001b[39m\u001b[39mYou performed a query operation requiring \u001b[39m\u001b[39m\"\u001b[39m\n\u001b[1;32m    290\u001b[0m         \u001b[39m+\u001b[39m \u001b[39m\"\u001b[39m\u001b[39ma dataset (i.e. ConjunctiveGraph), but \u001b[39m\u001b[39m\"\u001b[39m\n\u001b[1;32m    291\u001b[0m         \u001b[39m+\u001b[39m \u001b[39m\"\u001b[39m\u001b[39moperating currently on a single graph.\u001b[39m\u001b[39m\"\u001b[39m\n\u001b[1;32m    292\u001b[0m     )\n\u001b[1;32m    293\u001b[0m \u001b[39mreturn\u001b[39;00m \u001b[39mself\u001b[39m\u001b[39m.\u001b[39m_dataset\n",
      "\u001b[0;31mException\u001b[0m: You performed a query operation requiring a dataset (i.e. ConjunctiveGraph), but operating currently on a single graph."
     ]
    }
   ],
   "source": [
    "g.update(request)"
   ]
  },
  {
   "cell_type": "code",
   "execution_count": null,
   "id": "b4662024-d2b6-4750-9f1c-03de9c16b6af",
   "metadata": {},
   "outputs": [],
   "source": [
    "dump = \"\"\"\n",
    "SELECT * WHERE {\n",
    "    ?x ?y ?z\n",
    "}\n",
    "\"\"\""
   ]
  },
  {
   "cell_type": "code",
   "execution_count": null,
   "id": "3da9be94-9303-4bd6-8740-11802617c984",
   "metadata": {},
   "outputs": [],
   "source": [
    "qres = g.query(dump)"
   ]
  },
  {
   "cell_type": "code",
   "execution_count": null,
   "id": "d44a5feb-d6d5-437b-a296-49be2ba7a276",
   "metadata": {},
   "outputs": [
    {
     "name": "stdout",
     "output_type": "stream",
     "text": [
      "(rdflib.term.URIRef('http://purl.org/dc/elements/1.1/title'), rdflib.term.URIRef('http://example/book1'), rdflib.term.Literal('A new book'))\n"
     ]
    }
   ],
   "source": [
    "for item in qres:\n",
    "    print(item)"
   ]
  },
  {
   "cell_type": "code",
   "execution_count": null,
   "id": "bdda9767-e281-4142-957e-54b7ae0f3d89",
   "metadata": {},
   "outputs": [],
   "source": []
  }
 ],
 "metadata": {
  "kernelspec": {
   "display_name": "myenv",
   "language": "python",
   "name": "python3"
  },
  "language_info": {
   "codemirror_mode": {
    "name": "ipython",
    "version": 3
   },
   "file_extension": ".py",
   "mimetype": "text/x-python",
   "name": "python",
   "nbconvert_exporter": "python",
   "pygments_lexer": "ipython3",
   "version": "3.8.10"
  },
  "vscode": {
   "interpreter": {
    "hash": "2d72e63264ec467e1d33e491133c83a6b7841c5a0574d8664225f7c9209c513f"
   }
  }
 },
 "nbformat": 4,
 "nbformat_minor": 5
}
