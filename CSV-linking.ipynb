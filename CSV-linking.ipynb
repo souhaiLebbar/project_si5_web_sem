{
 "cells": [
  {
   "cell_type": "code",
   "execution_count": 1,
   "id": "d1acc011-a4b2-43ed-92b1-faa5d230749b",
   "metadata": {},
   "outputs": [],
   "source": [
    "import pandas as pd\n",
    "import spacy\n",
    "from tqdm import tqdm"
   ]
  },
  {
   "cell_type": "code",
   "execution_count": 2,
   "id": "58cbbded-dd0d-4eff-b360-736fd1da9855",
   "metadata": {},
   "outputs": [],
   "source": [
    "non_linked = pd.read_csv('csv_lifting/data/dataset.csv')"
   ]
  },
  {
   "cell_type": "code",
   "execution_count": 3,
   "id": "265883b4-3b1f-42b7-ac0d-7b85f8a659e0",
   "metadata": {},
   "outputs": [
    {
     "data": {
      "text/plain": [
       "<spacyfishing.entity_fishing_linker.EntityFishing at 0x7fcc330ec8b0>"
      ]
     },
     "execution_count": 3,
     "metadata": {},
     "output_type": "execute_result"
    }
   ],
   "source": [
    "disease = spacy.load(\"en_core_sci_sm\")\n",
    "disease.add_pipe('entityfishing', config={\n",
    "        \"extra_info\": True,\n",
    "        \"api_ef_base\": \"http://nerd.huma-num.fr/nerd/service\"\n",
    "    })"
   ]
  },
  {
   "cell_type": "code",
   "execution_count": 4,
   "id": "b32370f0-5304-4b19-89bd-276d0e12335c",
   "metadata": {},
   "outputs": [
    {
     "data": {
      "text/plain": [
       "Index(['Disease', 'Symptom_1', 'Symptom_2', 'Symptom_3', 'Symptom_4',\n",
       "       'Symptom_5', 'Symptom_6', 'Symptom_7', 'Symptom_8', 'Symptom_9',\n",
       "       'Symptom_10', 'Symptom_11', 'Symptom_12', 'Symptom_13', 'Symptom_14',\n",
       "       'Symptom_15', 'Symptom_16', 'Symptom_17'],\n",
       "      dtype='object')"
      ]
     },
     "execution_count": 4,
     "metadata": {},
     "output_type": "execute_result"
    }
   ],
   "source": [
    "non_linked.columns"
   ]
  },
  {
   "cell_type": "code",
   "execution_count": 5,
   "id": "53a0a8e7-0f96-4bcc-8388-749eb654ec01",
   "metadata": {},
   "outputs": [
    {
     "data": {
      "text/html": [
       "<div>\n",
       "<style scoped>\n",
       "    .dataframe tbody tr th:only-of-type {\n",
       "        vertical-align: middle;\n",
       "    }\n",
       "\n",
       "    .dataframe tbody tr th {\n",
       "        vertical-align: top;\n",
       "    }\n",
       "\n",
       "    .dataframe thead th {\n",
       "        text-align: right;\n",
       "    }\n",
       "</style>\n",
       "<table border=\"1\" class=\"dataframe\">\n",
       "  <thead>\n",
       "    <tr style=\"text-align: right;\">\n",
       "      <th></th>\n",
       "      <th>Disease</th>\n",
       "      <th>Symptom_1</th>\n",
       "      <th>Symptom_2</th>\n",
       "      <th>Symptom_3</th>\n",
       "      <th>Symptom_4</th>\n",
       "      <th>Symptom_5</th>\n",
       "      <th>Symptom_6</th>\n",
       "      <th>Symptom_7</th>\n",
       "      <th>Symptom_8</th>\n",
       "      <th>Symptom_9</th>\n",
       "      <th>Symptom_10</th>\n",
       "      <th>Symptom_11</th>\n",
       "      <th>Symptom_12</th>\n",
       "      <th>Symptom_13</th>\n",
       "      <th>Symptom_14</th>\n",
       "      <th>Symptom_15</th>\n",
       "      <th>Symptom_16</th>\n",
       "      <th>Symptom_17</th>\n",
       "    </tr>\n",
       "  </thead>\n",
       "  <tbody>\n",
       "    <tr>\n",
       "      <th>0</th>\n",
       "      <td>Fungal infection</td>\n",
       "      <td>itching</td>\n",
       "      <td>skin_rash</td>\n",
       "      <td>nodal_skin_eruptions</td>\n",
       "      <td>dischromic _patches</td>\n",
       "      <td>NaN</td>\n",
       "      <td>NaN</td>\n",
       "      <td>NaN</td>\n",
       "      <td>NaN</td>\n",
       "      <td>NaN</td>\n",
       "      <td>NaN</td>\n",
       "      <td>NaN</td>\n",
       "      <td>NaN</td>\n",
       "      <td>NaN</td>\n",
       "      <td>NaN</td>\n",
       "      <td>NaN</td>\n",
       "      <td>NaN</td>\n",
       "      <td>NaN</td>\n",
       "    </tr>\n",
       "    <tr>\n",
       "      <th>1</th>\n",
       "      <td>Fungal infection</td>\n",
       "      <td>skin_rash</td>\n",
       "      <td>nodal_skin_eruptions</td>\n",
       "      <td>dischromic _patches</td>\n",
       "      <td>NaN</td>\n",
       "      <td>NaN</td>\n",
       "      <td>NaN</td>\n",
       "      <td>NaN</td>\n",
       "      <td>NaN</td>\n",
       "      <td>NaN</td>\n",
       "      <td>NaN</td>\n",
       "      <td>NaN</td>\n",
       "      <td>NaN</td>\n",
       "      <td>NaN</td>\n",
       "      <td>NaN</td>\n",
       "      <td>NaN</td>\n",
       "      <td>NaN</td>\n",
       "      <td>NaN</td>\n",
       "    </tr>\n",
       "    <tr>\n",
       "      <th>2</th>\n",
       "      <td>Fungal infection</td>\n",
       "      <td>itching</td>\n",
       "      <td>nodal_skin_eruptions</td>\n",
       "      <td>dischromic _patches</td>\n",
       "      <td>NaN</td>\n",
       "      <td>NaN</td>\n",
       "      <td>NaN</td>\n",
       "      <td>NaN</td>\n",
       "      <td>NaN</td>\n",
       "      <td>NaN</td>\n",
       "      <td>NaN</td>\n",
       "      <td>NaN</td>\n",
       "      <td>NaN</td>\n",
       "      <td>NaN</td>\n",
       "      <td>NaN</td>\n",
       "      <td>NaN</td>\n",
       "      <td>NaN</td>\n",
       "      <td>NaN</td>\n",
       "    </tr>\n",
       "    <tr>\n",
       "      <th>3</th>\n",
       "      <td>Fungal infection</td>\n",
       "      <td>itching</td>\n",
       "      <td>skin_rash</td>\n",
       "      <td>dischromic _patches</td>\n",
       "      <td>NaN</td>\n",
       "      <td>NaN</td>\n",
       "      <td>NaN</td>\n",
       "      <td>NaN</td>\n",
       "      <td>NaN</td>\n",
       "      <td>NaN</td>\n",
       "      <td>NaN</td>\n",
       "      <td>NaN</td>\n",
       "      <td>NaN</td>\n",
       "      <td>NaN</td>\n",
       "      <td>NaN</td>\n",
       "      <td>NaN</td>\n",
       "      <td>NaN</td>\n",
       "      <td>NaN</td>\n",
       "    </tr>\n",
       "    <tr>\n",
       "      <th>4</th>\n",
       "      <td>Fungal infection</td>\n",
       "      <td>itching</td>\n",
       "      <td>skin_rash</td>\n",
       "      <td>nodal_skin_eruptions</td>\n",
       "      <td>NaN</td>\n",
       "      <td>NaN</td>\n",
       "      <td>NaN</td>\n",
       "      <td>NaN</td>\n",
       "      <td>NaN</td>\n",
       "      <td>NaN</td>\n",
       "      <td>NaN</td>\n",
       "      <td>NaN</td>\n",
       "      <td>NaN</td>\n",
       "      <td>NaN</td>\n",
       "      <td>NaN</td>\n",
       "      <td>NaN</td>\n",
       "      <td>NaN</td>\n",
       "      <td>NaN</td>\n",
       "    </tr>\n",
       "    <tr>\n",
       "      <th>5</th>\n",
       "      <td>Fungal infection</td>\n",
       "      <td>skin_rash</td>\n",
       "      <td>nodal_skin_eruptions</td>\n",
       "      <td>dischromic _patches</td>\n",
       "      <td>NaN</td>\n",
       "      <td>NaN</td>\n",
       "      <td>NaN</td>\n",
       "      <td>NaN</td>\n",
       "      <td>NaN</td>\n",
       "      <td>NaN</td>\n",
       "      <td>NaN</td>\n",
       "      <td>NaN</td>\n",
       "      <td>NaN</td>\n",
       "      <td>NaN</td>\n",
       "      <td>NaN</td>\n",
       "      <td>NaN</td>\n",
       "      <td>NaN</td>\n",
       "      <td>NaN</td>\n",
       "    </tr>\n",
       "    <tr>\n",
       "      <th>6</th>\n",
       "      <td>Fungal infection</td>\n",
       "      <td>itching</td>\n",
       "      <td>nodal_skin_eruptions</td>\n",
       "      <td>dischromic _patches</td>\n",
       "      <td>NaN</td>\n",
       "      <td>NaN</td>\n",
       "      <td>NaN</td>\n",
       "      <td>NaN</td>\n",
       "      <td>NaN</td>\n",
       "      <td>NaN</td>\n",
       "      <td>NaN</td>\n",
       "      <td>NaN</td>\n",
       "      <td>NaN</td>\n",
       "      <td>NaN</td>\n",
       "      <td>NaN</td>\n",
       "      <td>NaN</td>\n",
       "      <td>NaN</td>\n",
       "      <td>NaN</td>\n",
       "    </tr>\n",
       "    <tr>\n",
       "      <th>7</th>\n",
       "      <td>Fungal infection</td>\n",
       "      <td>itching</td>\n",
       "      <td>skin_rash</td>\n",
       "      <td>dischromic _patches</td>\n",
       "      <td>NaN</td>\n",
       "      <td>NaN</td>\n",
       "      <td>NaN</td>\n",
       "      <td>NaN</td>\n",
       "      <td>NaN</td>\n",
       "      <td>NaN</td>\n",
       "      <td>NaN</td>\n",
       "      <td>NaN</td>\n",
       "      <td>NaN</td>\n",
       "      <td>NaN</td>\n",
       "      <td>NaN</td>\n",
       "      <td>NaN</td>\n",
       "      <td>NaN</td>\n",
       "      <td>NaN</td>\n",
       "    </tr>\n",
       "    <tr>\n",
       "      <th>8</th>\n",
       "      <td>Fungal infection</td>\n",
       "      <td>itching</td>\n",
       "      <td>skin_rash</td>\n",
       "      <td>nodal_skin_eruptions</td>\n",
       "      <td>NaN</td>\n",
       "      <td>NaN</td>\n",
       "      <td>NaN</td>\n",
       "      <td>NaN</td>\n",
       "      <td>NaN</td>\n",
       "      <td>NaN</td>\n",
       "      <td>NaN</td>\n",
       "      <td>NaN</td>\n",
       "      <td>NaN</td>\n",
       "      <td>NaN</td>\n",
       "      <td>NaN</td>\n",
       "      <td>NaN</td>\n",
       "      <td>NaN</td>\n",
       "      <td>NaN</td>\n",
       "    </tr>\n",
       "    <tr>\n",
       "      <th>9</th>\n",
       "      <td>Fungal infection</td>\n",
       "      <td>itching</td>\n",
       "      <td>skin_rash</td>\n",
       "      <td>nodal_skin_eruptions</td>\n",
       "      <td>dischromic _patches</td>\n",
       "      <td>NaN</td>\n",
       "      <td>NaN</td>\n",
       "      <td>NaN</td>\n",
       "      <td>NaN</td>\n",
       "      <td>NaN</td>\n",
       "      <td>NaN</td>\n",
       "      <td>NaN</td>\n",
       "      <td>NaN</td>\n",
       "      <td>NaN</td>\n",
       "      <td>NaN</td>\n",
       "      <td>NaN</td>\n",
       "      <td>NaN</td>\n",
       "      <td>NaN</td>\n",
       "    </tr>\n",
       "  </tbody>\n",
       "</table>\n",
       "</div>"
      ],
      "text/plain": [
       "            Disease   Symptom_1              Symptom_2              Symptom_3  \\\n",
       "0  Fungal infection     itching              skin_rash   nodal_skin_eruptions   \n",
       "1  Fungal infection   skin_rash   nodal_skin_eruptions    dischromic _patches   \n",
       "2  Fungal infection     itching   nodal_skin_eruptions    dischromic _patches   \n",
       "3  Fungal infection     itching              skin_rash    dischromic _patches   \n",
       "4  Fungal infection     itching              skin_rash   nodal_skin_eruptions   \n",
       "5  Fungal infection   skin_rash   nodal_skin_eruptions    dischromic _patches   \n",
       "6  Fungal infection     itching   nodal_skin_eruptions    dischromic _patches   \n",
       "7  Fungal infection     itching              skin_rash    dischromic _patches   \n",
       "8  Fungal infection     itching              skin_rash   nodal_skin_eruptions   \n",
       "9  Fungal infection     itching              skin_rash   nodal_skin_eruptions   \n",
       "\n",
       "              Symptom_4 Symptom_5 Symptom_6 Symptom_7 Symptom_8 Symptom_9  \\\n",
       "0   dischromic _patches       NaN       NaN       NaN       NaN       NaN   \n",
       "1                   NaN       NaN       NaN       NaN       NaN       NaN   \n",
       "2                   NaN       NaN       NaN       NaN       NaN       NaN   \n",
       "3                   NaN       NaN       NaN       NaN       NaN       NaN   \n",
       "4                   NaN       NaN       NaN       NaN       NaN       NaN   \n",
       "5                   NaN       NaN       NaN       NaN       NaN       NaN   \n",
       "6                   NaN       NaN       NaN       NaN       NaN       NaN   \n",
       "7                   NaN       NaN       NaN       NaN       NaN       NaN   \n",
       "8                   NaN       NaN       NaN       NaN       NaN       NaN   \n",
       "9   dischromic _patches       NaN       NaN       NaN       NaN       NaN   \n",
       "\n",
       "  Symptom_10 Symptom_11 Symptom_12 Symptom_13 Symptom_14 Symptom_15  \\\n",
       "0        NaN        NaN        NaN        NaN        NaN        NaN   \n",
       "1        NaN        NaN        NaN        NaN        NaN        NaN   \n",
       "2        NaN        NaN        NaN        NaN        NaN        NaN   \n",
       "3        NaN        NaN        NaN        NaN        NaN        NaN   \n",
       "4        NaN        NaN        NaN        NaN        NaN        NaN   \n",
       "5        NaN        NaN        NaN        NaN        NaN        NaN   \n",
       "6        NaN        NaN        NaN        NaN        NaN        NaN   \n",
       "7        NaN        NaN        NaN        NaN        NaN        NaN   \n",
       "8        NaN        NaN        NaN        NaN        NaN        NaN   \n",
       "9        NaN        NaN        NaN        NaN        NaN        NaN   \n",
       "\n",
       "  Symptom_16 Symptom_17  \n",
       "0        NaN        NaN  \n",
       "1        NaN        NaN  \n",
       "2        NaN        NaN  \n",
       "3        NaN        NaN  \n",
       "4        NaN        NaN  \n",
       "5        NaN        NaN  \n",
       "6        NaN        NaN  \n",
       "7        NaN        NaN  \n",
       "8        NaN        NaN  \n",
       "9        NaN        NaN  "
      ]
     },
     "execution_count": 5,
     "metadata": {},
     "output_type": "execute_result"
    }
   ],
   "source": [
    "non_linked[:10]"
   ]
  },
  {
   "cell_type": "code",
   "execution_count": 6,
   "id": "eb53572b-5cca-4406-9e40-51b1a753f9d0",
   "metadata": {},
   "outputs": [
    {
     "name": "stderr",
     "output_type": "stream",
     "text": [
      " 80%|████████  | 3960/4920 [05:51<01:25, 11.26it/s]\n"
     ]
    },
    {
     "ename": "KeyboardInterrupt",
     "evalue": "",
     "output_type": "error",
     "traceback": [
      "\u001b[0;31m---------------------------------------------------------------------------\u001b[0m",
      "\u001b[0;31mKeyboardInterrupt\u001b[0m                         Traceback (most recent call last)",
      "Cell \u001b[0;32mIn[6], line 4\u001b[0m\n\u001b[1;32m      1\u001b[0m disease_linked \u001b[39m=\u001b[39m []\n\u001b[1;32m      3\u001b[0m \u001b[39mfor\u001b[39;00m item \u001b[39min\u001b[39;00m tqdm(non_linked[\u001b[39m'\u001b[39m\u001b[39mDisease\u001b[39m\u001b[39m'\u001b[39m]):\n\u001b[0;32m----> 4\u001b[0m     doc \u001b[39m=\u001b[39m disease(item)\n\u001b[1;32m      5\u001b[0m     found \u001b[39m=\u001b[39m \u001b[39mFalse\u001b[39;00m\n\u001b[1;32m      6\u001b[0m     \u001b[39mfor\u001b[39;00m ent \u001b[39min\u001b[39;00m doc\u001b[39m.\u001b[39ments:\n",
      "File \u001b[0;32m~/desktop/knowledge_eng/project_si5_web_sem/myenv/lib/python3.8/site-packages/spacy/language.py:1026\u001b[0m, in \u001b[0;36mLanguage.__call__\u001b[0;34m(self, text, disable, component_cfg)\u001b[0m\n\u001b[1;32m   1024\u001b[0m     error_handler \u001b[39m=\u001b[39m proc\u001b[39m.\u001b[39mget_error_handler()\n\u001b[1;32m   1025\u001b[0m \u001b[39mtry\u001b[39;00m:\n\u001b[0;32m-> 1026\u001b[0m     doc \u001b[39m=\u001b[39m proc(doc, \u001b[39m*\u001b[39;49m\u001b[39m*\u001b[39;49mcomponent_cfg\u001b[39m.\u001b[39;49mget(name, {}))  \u001b[39m# type: ignore[call-arg]\u001b[39;00m\n\u001b[1;32m   1027\u001b[0m \u001b[39mexcept\u001b[39;00m \u001b[39mKeyError\u001b[39;00m \u001b[39mas\u001b[39;00m e:\n\u001b[1;32m   1028\u001b[0m     \u001b[39m# This typically happens if a component is not initialized\u001b[39;00m\n\u001b[1;32m   1029\u001b[0m     \u001b[39mraise\u001b[39;00m \u001b[39mValueError\u001b[39;00m(Errors\u001b[39m.\u001b[39mE109\u001b[39m.\u001b[39mformat(name\u001b[39m=\u001b[39mname)) \u001b[39mfrom\u001b[39;00m \u001b[39me\u001b[39;00m\n",
      "File \u001b[0;32m~/desktop/knowledge_eng/project_si5_web_sem/myenv/lib/python3.8/site-packages/spacyfishing/entity_fishing_linker.py:469\u001b[0m, in \u001b[0;36mEntityFishing.__call__\u001b[0;34m(self, doc)\u001b[0m\n\u001b[1;32m    460\u001b[0m \u001b[39m\u001b[39m\u001b[39m\"\"\"\u001b[39;00m\n\u001b[1;32m    461\u001b[0m \u001b[39m> The function takes a spaCy Doc object, and returns a Doc object with the entities\u001b[39;00m\n\u001b[1;32m    462\u001b[0m \u001b[39mdisambiguated and linked\u001b[39;00m\n\u001b[0;32m   (...)\u001b[0m\n\u001b[1;32m    466\u001b[0m \u001b[39m:return: A Doc object with the entities linked to the corresponding Wikipedia page.\u001b[39;00m\n\u001b[1;32m    467\u001b[0m \u001b[39m\"\"\"\u001b[39;00m\n\u001b[1;32m    468\u001b[0m \u001b[39m# 1. Disambiguate and linking named entities in Doc object with Entity-Fishing\u001b[39;00m\n\u001b[0;32m--> 469\u001b[0m result_from_ef_text \u001b[39m=\u001b[39m \u001b[39mself\u001b[39;49m\u001b[39m.\u001b[39;49mmain_disambiguation_process_batch(\n\u001b[1;32m    470\u001b[0m     text_batch\u001b[39m=\u001b[39;49m[doc\u001b[39m.\u001b[39;49mtext],\n\u001b[1;32m    471\u001b[0m     terms_batch\u001b[39m=\u001b[39;49m[\u001b[39m\"\u001b[39;49m\u001b[39m\"\u001b[39;49m],\n\u001b[1;32m    472\u001b[0m     entities_batch\u001b[39m=\u001b[39;49m[doc\u001b[39m.\u001b[39;49ments]\n\u001b[1;32m    473\u001b[0m )[\u001b[39m0\u001b[39m]\n\u001b[1;32m    474\u001b[0m \u001b[39mreturn\u001b[39;00m \u001b[39mself\u001b[39m\u001b[39m.\u001b[39mprocess_single_doc_after_call(doc, result_from_ef_text)\n",
      "File \u001b[0;32m~/desktop/knowledge_eng/project_si5_web_sem/myenv/lib/python3.8/site-packages/spacyfishing/entity_fishing_linker.py:369\u001b[0m, in \u001b[0;36mEntityFishing.main_disambiguation_process_batch\u001b[0;34m(self, text_batch, terms_batch, entities_batch)\u001b[0m\n\u001b[1;32m    352\u001b[0m \u001b[39m\u001b[39m\u001b[39m\"\"\"\u001b[39;00m\n\u001b[1;32m    353\u001b[0m \u001b[39mIt takes a batch of text, terms and entities, and returns a batch of disambiguated entities\u001b[39;00m\n\u001b[1;32m    354\u001b[0m \n\u001b[0;32m   (...)\u001b[0m\n\u001b[1;32m    362\u001b[0m \u001b[39m:return: A list of tuples, each tuple containing the response, metadata, and entities_enhanced.\u001b[39;00m\n\u001b[1;32m    363\u001b[0m \u001b[39m\"\"\"\u001b[39;00m\n\u001b[1;32m    364\u001b[0m data_to_post_batch \u001b[39m=\u001b[39m [\u001b[39mself\u001b[39m\u001b[39m.\u001b[39mprepare_data(text\u001b[39m=\u001b[39mtext,\n\u001b[1;32m    365\u001b[0m                                         terms\u001b[39m=\u001b[39mterms,\n\u001b[1;32m    366\u001b[0m                                         entities\u001b[39m=\u001b[39mentities,\n\u001b[1;32m    367\u001b[0m                                         language\u001b[39m=\u001b[39m\u001b[39mself\u001b[39m\u001b[39m.\u001b[39mlanguage,\n\u001b[1;32m    368\u001b[0m                                         full\u001b[39m=\u001b[39m\u001b[39mself\u001b[39m\u001b[39m.\u001b[39mflag_extra) \u001b[39mfor\u001b[39;00m text, terms, entities \u001b[39min\u001b[39;00m \u001b[39mzip\u001b[39m(text_batch, terms_batch, entities_batch)]\n\u001b[0;32m--> 369\u001b[0m reqs \u001b[39m=\u001b[39m \u001b[39mself\u001b[39;49m\u001b[39m.\u001b[39;49mdisambiguate_text_batch(files_batch\u001b[39m=\u001b[39;49mdata_to_post_batch)\n\u001b[1;32m    371\u001b[0m response_tuples \u001b[39m=\u001b[39m []\n\u001b[1;32m    372\u001b[0m \u001b[39mfor\u001b[39;00m req \u001b[39min\u001b[39;00m reqs:\n",
      "File \u001b[0;32m~/desktop/knowledge_eng/project_si5_web_sem/myenv/lib/python3.8/site-packages/spacyfishing/entity_fishing_linker.py:298\u001b[0m, in \u001b[0;36mEntityFishing.disambiguate_text_batch\u001b[0;34m(self, files_batch)\u001b[0m\n\u001b[1;32m    296\u001b[0m url_disambiguate \u001b[39m=\u001b[39m \u001b[39mself\u001b[39m\u001b[39m.\u001b[39mapi_ef_base \u001b[39m+\u001b[39m \u001b[39m\"\u001b[39m\u001b[39mdisambiguate\u001b[39m\u001b[39m\"\u001b[39m\n\u001b[1;32m    297\u001b[0m url_disambiguate_batch \u001b[39m=\u001b[39m [url_disambiguate \u001b[39mfor\u001b[39;00m file \u001b[39min\u001b[39;00m files_batch]\n\u001b[0;32m--> 298\u001b[0m \u001b[39mreturn\u001b[39;00m \u001b[39mself\u001b[39;49m\u001b[39m.\u001b[39;49mgeneric_client_batch(method\u001b[39m=\u001b[39;49m\u001b[39m'\u001b[39;49m\u001b[39mPOST\u001b[39;49m\u001b[39m'\u001b[39;49m,\n\u001b[1;32m    299\u001b[0m                                  url_batch\u001b[39m=\u001b[39;49murl_disambiguate_batch,\n\u001b[1;32m    300\u001b[0m                                  files_batch\u001b[39m=\u001b[39;49mfiles_batch,\n\u001b[1;32m    301\u001b[0m                                  verbose\u001b[39m=\u001b[39;49m\u001b[39mself\u001b[39;49m\u001b[39m.\u001b[39;49mverbose)\n",
      "File \u001b[0;32m~/desktop/knowledge_eng/project_si5_web_sem/myenv/lib/python3.8/site-packages/spacyfishing/entity_fishing_linker.py:143\u001b[0m, in \u001b[0;36mEntityFishing.generic_client_batch\u001b[0;34m(method, url_batch, verbose, params, files_batch)\u001b[0m\n\u001b[1;32m    140\u001b[0m \u001b[39mwith\u001b[39;00m concurrent\u001b[39m.\u001b[39mfutures\u001b[39m.\u001b[39mThreadPoolExecutor(max_workers\u001b[39m=\u001b[39m\u001b[39m20\u001b[39m) \u001b[39mas\u001b[39;00m executor:\n\u001b[1;32m    141\u001b[0m     future_to_url \u001b[39m=\u001b[39m {executor\u001b[39m.\u001b[39msubmit(\n\u001b[1;32m    142\u001b[0m         load_url, type_url, type_files): (type_url, type_files) \u001b[39mfor\u001b[39;00m type_url, type_files \u001b[39min\u001b[39;00m \u001b[39mzip\u001b[39m(url_batch, files_batch)}\n\u001b[0;32m--> 143\u001b[0m     \u001b[39mfor\u001b[39;00m future \u001b[39min\u001b[39;00m concurrent\u001b[39m.\u001b[39mfutures\u001b[39m.\u001b[39mas_completed(future_to_url):\n\u001b[1;32m    144\u001b[0m         url \u001b[39m=\u001b[39m future_to_url[future]\n\u001b[1;32m    145\u001b[0m         \u001b[39mtry\u001b[39;00m:\n",
      "File \u001b[0;32m/usr/lib/python3.8/concurrent/futures/_base.py:244\u001b[0m, in \u001b[0;36mas_completed\u001b[0;34m(fs, timeout)\u001b[0m\n\u001b[1;32m    239\u001b[0m     \u001b[39mif\u001b[39;00m wait_timeout \u001b[39m<\u001b[39m \u001b[39m0\u001b[39m:\n\u001b[1;32m    240\u001b[0m         \u001b[39mraise\u001b[39;00m \u001b[39mTimeoutError\u001b[39;00m(\n\u001b[1;32m    241\u001b[0m                 \u001b[39m'\u001b[39m\u001b[39m%d\u001b[39;00m\u001b[39m (of \u001b[39m\u001b[39m%d\u001b[39;00m\u001b[39m) futures unfinished\u001b[39m\u001b[39m'\u001b[39m \u001b[39m%\u001b[39m (\n\u001b[1;32m    242\u001b[0m                 \u001b[39mlen\u001b[39m(pending), total_futures))\n\u001b[0;32m--> 244\u001b[0m waiter\u001b[39m.\u001b[39;49mevent\u001b[39m.\u001b[39;49mwait(wait_timeout)\n\u001b[1;32m    246\u001b[0m \u001b[39mwith\u001b[39;00m waiter\u001b[39m.\u001b[39mlock:\n\u001b[1;32m    247\u001b[0m     finished \u001b[39m=\u001b[39m waiter\u001b[39m.\u001b[39mfinished_futures\n",
      "File \u001b[0;32m/usr/lib/python3.8/threading.py:558\u001b[0m, in \u001b[0;36mEvent.wait\u001b[0;34m(self, timeout)\u001b[0m\n\u001b[1;32m    556\u001b[0m signaled \u001b[39m=\u001b[39m \u001b[39mself\u001b[39m\u001b[39m.\u001b[39m_flag\n\u001b[1;32m    557\u001b[0m \u001b[39mif\u001b[39;00m \u001b[39mnot\u001b[39;00m signaled:\n\u001b[0;32m--> 558\u001b[0m     signaled \u001b[39m=\u001b[39m \u001b[39mself\u001b[39;49m\u001b[39m.\u001b[39;49m_cond\u001b[39m.\u001b[39;49mwait(timeout)\n\u001b[1;32m    559\u001b[0m \u001b[39mreturn\u001b[39;00m signaled\n",
      "File \u001b[0;32m/usr/lib/python3.8/threading.py:302\u001b[0m, in \u001b[0;36mCondition.wait\u001b[0;34m(self, timeout)\u001b[0m\n\u001b[1;32m    300\u001b[0m \u001b[39mtry\u001b[39;00m:    \u001b[39m# restore state no matter what (e.g., KeyboardInterrupt)\u001b[39;00m\n\u001b[1;32m    301\u001b[0m     \u001b[39mif\u001b[39;00m timeout \u001b[39mis\u001b[39;00m \u001b[39mNone\u001b[39;00m:\n\u001b[0;32m--> 302\u001b[0m         waiter\u001b[39m.\u001b[39;49macquire()\n\u001b[1;32m    303\u001b[0m         gotit \u001b[39m=\u001b[39m \u001b[39mTrue\u001b[39;00m\n\u001b[1;32m    304\u001b[0m     \u001b[39melse\u001b[39;00m:\n",
      "\u001b[0;31mKeyboardInterrupt\u001b[0m: "
     ]
    }
   ],
   "source": [
    "disease_linked = []\n",
    "\n",
    "for item in tqdm(non_linked['Disease']):\n",
    "    doc = disease(item)\n",
    "    found = False\n",
    "    for ent in doc.ents:\n",
    "        if len(ent) == len(doc):\n",
    "            disease_linked.append(ent._.kb_qid)\n",
    "            found = True\n",
    "            break\n",
    "    if not found:\n",
    "        disease_linked.append(None)"
   ]
  },
  {
   "cell_type": "code",
   "execution_count": 7,
   "id": "5ac145b3-1f10-43ac-8909-80ada31188a6",
   "metadata": {},
   "outputs": [
    {
     "data": {
      "text/plain": [
       "(3960, 4920)"
      ]
     },
     "execution_count": 7,
     "metadata": {},
     "output_type": "execute_result"
    }
   ],
   "source": [
    "len(disease_linked), len(non_linked['Disease'])"
   ]
  },
  {
   "cell_type": "code",
   "execution_count": 8,
   "id": "d95fc50f-fe7b-466d-9e2a-c6b8463b60ef",
   "metadata": {},
   "outputs": [],
   "source": [
    "d1 = pd.DataFrame({\n",
    "    'link_disease': disease_linked\n",
    "})\n",
    "d1.to_csv('diseases.csv')"
   ]
  },
  {
   "cell_type": "code",
   "execution_count": 9,
   "id": "47133deb-54a1-410d-9ad8-7bba12c8537c",
   "metadata": {},
   "outputs": [
    {
     "data": {
      "text/plain": [
       "nan"
      ]
     },
     "execution_count": 9,
     "metadata": {},
     "output_type": "execute_result"
    }
   ],
   "source": [
    "non_linked['Symptom_5'][0]"
   ]
  },
  {
   "cell_type": "code",
   "execution_count": 10,
   "id": "9138340d-d91f-4410-95a0-d3b0afacbf8b",
   "metadata": {},
   "outputs": [
    {
     "name": "stderr",
     "output_type": "stream",
     "text": [
      "100%|██████████| 4920/4920 [45:50<00:00,  1.79it/s]  \n"
     ]
    }
   ],
   "source": [
    "linked_symptoms = []\n",
    "\n",
    "for i in range(17):\n",
    "    linked_symptoms.append([])\n",
    "\n",
    "for line in tqdm(range(len(non_linked))):\n",
    "    for i in range(1, 18):\n",
    "        column_name = f\"Symptom_{str(i)}\"\n",
    "        if str(non_linked[column_name][line]) == \"nan\" or non_linked[column_name][line] is None:\n",
    "            linked_symptoms[i - 1].append(None)\n",
    "            continue\n",
    "        doc = disease(non_linked[column_name][line].replace(\"_\", \" \"))\n",
    "        found = False\n",
    "        for ent in doc.ents:\n",
    "            if len(ent) == len(doc):\n",
    "                linked_symptoms[i - 1].append(ent._.kb_qid)\n",
    "                found = True\n",
    "                break\n",
    "        if not found:\n",
    "            linked_symptoms[i - 1].append(None)"
   ]
  },
  {
   "cell_type": "code",
   "execution_count": 11,
   "id": "19df9a77-7ebd-451c-94e5-6919fc0d2a5e",
   "metadata": {},
   "outputs": [
    {
     "data": {
      "text/plain": [
       "[4920,\n",
       " 4920,\n",
       " 4920,\n",
       " 4920,\n",
       " 4920,\n",
       " 4920,\n",
       " 4920,\n",
       " 4920,\n",
       " 4920,\n",
       " 4920,\n",
       " 4920,\n",
       " 4920,\n",
       " 4920,\n",
       " 4920,\n",
       " 4920,\n",
       " 4920,\n",
       " 4920]"
      ]
     },
     "execution_count": 11,
     "metadata": {},
     "output_type": "execute_result"
    }
   ],
   "source": [
    "[len(s) for s in linked_symptoms]"
   ]
  },
  {
   "cell_type": "code",
   "execution_count": 14,
   "id": "d23bb71e-e20c-4575-b43c-2f8a61be582a",
   "metadata": {},
   "outputs": [],
   "source": [
    "d2 = pd.DataFrame({\n",
    "    f\"linked_symptom_{str(i+1)}\": linked_symptoms[i] for i in range(len(linked_symptoms))\n",
    "})\n",
    "d2.to_csv('linked_symptoms.csv')"
   ]
  },
  {
   "cell_type": "code",
   "execution_count": null,
   "id": "b073e39e-39e3-4328-a29d-6e70774b8ca8",
   "metadata": {},
   "outputs": [],
   "source": []
  }
 ],
 "metadata": {
  "kernelspec": {
   "display_name": "myenv",
   "language": "python",
   "name": "python3"
  },
  "language_info": {
   "codemirror_mode": {
    "name": "ipython",
    "version": 3
   },
   "file_extension": ".py",
   "mimetype": "text/x-python",
   "name": "python",
   "nbconvert_exporter": "python",
   "pygments_lexer": "ipython3",
   "version": "3.8.10"
  },
  "vscode": {
   "interpreter": {
    "hash": "6f5eb700cfa27db607fb9d7676129c3217270bf8fef6fd8d1da861ffe85ba282"
   }
  }
 },
 "nbformat": 4,
 "nbformat_minor": 5
}
